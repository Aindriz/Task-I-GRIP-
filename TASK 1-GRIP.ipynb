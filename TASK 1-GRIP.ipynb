{
 "cells": [
  {
   "cell_type": "code",
   "execution_count": null,
   "id": "7dfb996d",
   "metadata": {},
   "outputs": [],
   "source": [
    "THE SPARKS FOUNDATION-Data Science And Business Analytics Internship (GRIP)\n",
    "\n",
    "TASK 1- Prediction Using Supervised ML\n",
    "\n",
    "AUTHOR- Aindrila Acharyya Chaudhuri\n",
    "\n",
    "Using Linear Regression Technique to predict the score of a student based on number of study hours per day.\n",
    "\n",
    "Dataset-http://bit.ly/w-data"
   ]
  },
  {
   "cell_type": "code",
   "execution_count": 3,
   "id": "c01f04a1",
   "metadata": {},
   "outputs": [],
   "source": [
    "import numpy as np                  #For working with arrays\n",
    "import matplotlib.pyplot as plt     #For visual representation of data\n",
    "import pandas as pd                 #For data manipulation and analysis\n",
    "import seaborn as sns               #For statistical visualisation of data"
   ]
  },
  {
   "cell_type": "code",
   "execution_count": 5,
   "id": "70f8ef3a",
   "metadata": {},
   "outputs": [
    {
     "data": {
      "text/html": [
       "<div>\n",
       "<style scoped>\n",
       "    .dataframe tbody tr th:only-of-type {\n",
       "        vertical-align: middle;\n",
       "    }\n",
       "\n",
       "    .dataframe tbody tr th {\n",
       "        vertical-align: top;\n",
       "    }\n",
       "\n",
       "    .dataframe thead th {\n",
       "        text-align: right;\n",
       "    }\n",
       "</style>\n",
       "<table border=\"1\" class=\"dataframe\">\n",
       "  <thead>\n",
       "    <tr style=\"text-align: right;\">\n",
       "      <th></th>\n",
       "      <th>Hours</th>\n",
       "      <th>Scores</th>\n",
       "    </tr>\n",
       "  </thead>\n",
       "  <tbody>\n",
       "    <tr>\n",
       "      <th>0</th>\n",
       "      <td>2.5</td>\n",
       "      <td>21</td>\n",
       "    </tr>\n",
       "    <tr>\n",
       "      <th>1</th>\n",
       "      <td>5.1</td>\n",
       "      <td>47</td>\n",
       "    </tr>\n",
       "    <tr>\n",
       "      <th>2</th>\n",
       "      <td>3.2</td>\n",
       "      <td>27</td>\n",
       "    </tr>\n",
       "    <tr>\n",
       "      <th>3</th>\n",
       "      <td>8.5</td>\n",
       "      <td>75</td>\n",
       "    </tr>\n",
       "    <tr>\n",
       "      <th>4</th>\n",
       "      <td>3.5</td>\n",
       "      <td>30</td>\n",
       "    </tr>\n",
       "  </tbody>\n",
       "</table>\n",
       "</div>"
      ],
      "text/plain": [
       "   Hours  Scores\n",
       "0    2.5      21\n",
       "1    5.1      47\n",
       "2    3.2      27\n",
       "3    8.5      75\n",
       "4    3.5      30"
      ]
     },
     "execution_count": 5,
     "metadata": {},
     "output_type": "execute_result"
    }
   ],
   "source": [
    "ds = \"http://bit.ly/w-data\"\n",
    "info = pd.read_csv(ds)\n",
    "info.head()           #to get the first n rows(to check if the object has the right type of data in it)"
   ]
  },
  {
   "cell_type": "code",
   "execution_count": 6,
   "id": "39726086",
   "metadata": {},
   "outputs": [
    {
     "data": {
      "text/html": [
       "<div>\n",
       "<style scoped>\n",
       "    .dataframe tbody tr th:only-of-type {\n",
       "        vertical-align: middle;\n",
       "    }\n",
       "\n",
       "    .dataframe tbody tr th {\n",
       "        vertical-align: top;\n",
       "    }\n",
       "\n",
       "    .dataframe thead th {\n",
       "        text-align: right;\n",
       "    }\n",
       "</style>\n",
       "<table border=\"1\" class=\"dataframe\">\n",
       "  <thead>\n",
       "    <tr style=\"text-align: right;\">\n",
       "      <th></th>\n",
       "      <th>Hours</th>\n",
       "      <th>Scores</th>\n",
       "    </tr>\n",
       "  </thead>\n",
       "  <tbody>\n",
       "    <tr>\n",
       "      <th>count</th>\n",
       "      <td>25.000000</td>\n",
       "      <td>25.000000</td>\n",
       "    </tr>\n",
       "    <tr>\n",
       "      <th>mean</th>\n",
       "      <td>5.012000</td>\n",
       "      <td>51.480000</td>\n",
       "    </tr>\n",
       "    <tr>\n",
       "      <th>std</th>\n",
       "      <td>2.525094</td>\n",
       "      <td>25.286887</td>\n",
       "    </tr>\n",
       "    <tr>\n",
       "      <th>min</th>\n",
       "      <td>1.100000</td>\n",
       "      <td>17.000000</td>\n",
       "    </tr>\n",
       "    <tr>\n",
       "      <th>25%</th>\n",
       "      <td>2.700000</td>\n",
       "      <td>30.000000</td>\n",
       "    </tr>\n",
       "    <tr>\n",
       "      <th>50%</th>\n",
       "      <td>4.800000</td>\n",
       "      <td>47.000000</td>\n",
       "    </tr>\n",
       "    <tr>\n",
       "      <th>75%</th>\n",
       "      <td>7.400000</td>\n",
       "      <td>75.000000</td>\n",
       "    </tr>\n",
       "    <tr>\n",
       "      <th>max</th>\n",
       "      <td>9.200000</td>\n",
       "      <td>95.000000</td>\n",
       "    </tr>\n",
       "  </tbody>\n",
       "</table>\n",
       "</div>"
      ],
      "text/plain": [
       "           Hours     Scores\n",
       "count  25.000000  25.000000\n",
       "mean    5.012000  51.480000\n",
       "std     2.525094  25.286887\n",
       "min     1.100000  17.000000\n",
       "25%     2.700000  30.000000\n",
       "50%     4.800000  47.000000\n",
       "75%     7.400000  75.000000\n",
       "max     9.200000  95.000000"
      ]
     },
     "execution_count": 6,
     "metadata": {},
     "output_type": "execute_result"
    }
   ],
   "source": [
    "info.describe()      #to return statistical description of the data"
   ]
  },
  {
   "cell_type": "code",
   "execution_count": null,
   "id": "4acc93d0",
   "metadata": {},
   "outputs": [],
   "source": [
    "As evident from the dataset, there exists no missing data!"
   ]
  },
  {
   "cell_type": "code",
   "execution_count": null,
   "id": "5f5a4cd0",
   "metadata": {},
   "outputs": [],
   "source": [
    "Let us now plot the scatter diagram of the data given."
   ]
  },
  {
   "cell_type": "code",
   "execution_count": 8,
   "id": "d3ff4848",
   "metadata": {},
   "outputs": [],
   "source": [
    "X = info[\"Hours\"]          #Assigning data values to the variables X and y from the dataset given\n",
    "y = info[\"Scores\"]"
   ]
  },
  {
   "cell_type": "code",
   "execution_count": 10,
   "id": "86d64976",
   "metadata": {},
   "outputs": [
    {
     "data": {
      "text/plain": [
       "Text(0.5, 1.0, 'Scatter diagram of number of hours studied versus scores obtained')"
      ]
     },
     "execution_count": 10,
     "metadata": {},
     "output_type": "execute_result"
    },
    {
     "data": {
      "image/png": "[encoded data removed]",
      "text/plain": [
       "<Figure size 432x288 with 1 Axes>"
      ]
     },
     "metadata": {
      "needs_background": "light"
     },
     "output_type": "display_data"
    }
   ],
   "source": [
    "plt.scatter(X, y, c= \"red\", edgecolor = \"black\")  #plotting a scatter diagram\n",
    "plt.xlabel(\"Hours studied\")                       #Label the X axis\n",
    "plt.ylabel(\"Scores obtained\")                     #Label the Y axis\n",
    "plt.title(\"Scatter diagram of number of hours studied versus scores obtained\")  #Specifying title of the graph"
   ]
  },
  {
   "cell_type": "code",
   "execution_count": null,
   "id": "b0d40741",
   "metadata": {},
   "outputs": [],
   "source": [
    "From the above graph, we see that there exists a positive correlation between hours studied and scores obtained.\n",
    "Hence we can use linear regression technique to predict values of scores obtained from hours studied!\n",
    "We split the data into training set and test set now."
   ]
  },
  {
   "cell_type": "code",
   "execution_count": 48,
   "id": "aed84e5c",
   "metadata": {},
   "outputs": [
    {
     "name": "stdout",
     "output_type": "stream",
     "text": [
      "[[1.9]\n",
      " [3.5]\n",
      " [6.1]\n",
      " [3.3]\n",
      " [2.7]\n",
      " [8.3]\n",
      " [4.8]\n",
      " [7.7]\n",
      " [7.8]\n",
      " [2.7]\n",
      " [4.5]\n",
      " [2.5]\n",
      " [7.4]\n",
      " [3.2]\n",
      " [9.2]\n",
      " [5.1]\n",
      " [1.5]\n",
      " [8.5]\n",
      " [8.9]\n",
      " [1.1]]\n",
      "[[6.9]\n",
      " [2.5]\n",
      " [5.9]\n",
      " [3.8]\n",
      " [5.5]]\n"
     ]
    }
   ],
   "source": [
    "from sklearn.model_selection import train_test_split\n",
    "X_train, X_test, y_train, y_test = train_test_split(X.values.reshape(-1,1), y, test_size = 0.2) #Splitting the data into training set and test set\n",
    "print(X_train)\n",
    "print(X_test)"
   ]
  },
  {
   "cell_type": "code",
   "execution_count": null,
   "id": "8fb27e98",
   "metadata": {},
   "outputs": [],
   "source": [
    "From the above output, we see that the training set has 20 obsevations and test set has 5."
   ]
  },
  {
   "cell_type": "code",
   "execution_count": null,
   "id": "fedc6765",
   "metadata": {},
   "outputs": [],
   "source": [
    "We now proceed on to apply Linear Regression Model  to predict the score based on number of study hours."
   ]
  },
  {
   "cell_type": "code",
   "execution_count": 49,
   "id": "aef4ba35",
   "metadata": {},
   "outputs": [],
   "source": [
    "from sklearn.linear_model import LinearRegression\n",
    "reg = LinearRegression()      #Calling the LinearRegression class and creating an object reg of the class\n",
    "reg.fit(X_train, y_train)     #Using the fit method on our training data\n",
    "y_pred = reg.predict(X_test)  #Predicting the values using predict method on test data"
   ]
  },
  {
   "cell_type": "code",
   "execution_count": null,
   "id": "5fcdfd45",
   "metadata": {},
   "outputs": [],
   "source": [
    "Now we plot the graph of predicted values!"
   ]
  },
  {
   "cell_type": "code",
   "execution_count": 50,
   "id": "9b67f603",
   "metadata": {},
   "outputs": [
    {
     "data": {
      "image/png": "[encoded data removed]",
      "text/plain": [
       "<Figure size 432x288 with 1 Axes>"
      ]
     },
     "metadata": {
      "needs_background": "light"
     },
     "output_type": "display_data"
    }
   ],
   "source": [
    "plt.scatter(X_train, y_train, label = \"Observed values\", c = 'Black') #Scatter diagram of observed values of training set\n",
    "plt.plot(X_train, reg.predict(X_train), label = \"Predicted values\")   #Plotting the predicted values of training set\n",
    "plt.xlabel(\"Hours studied\")\n",
    "plt.ylabel(\"Scores obtained\")         \n",
    "plt.title(\"Graph showing the number of hours studied versus the scores obtained(Training)\")\n",
    "plt.legend()                                                          #To describe the elements of the graph\n",
    "plt.show()\n",
    "         "
   ]
  },
  {
   "cell_type": "code",
   "execution_count": null,
   "id": "e370aca3",
   "metadata": {},
   "outputs": [],
   "source": [
    "As evident from the above graph, we see that the linear regression model fits the data in a perfect straight line.\n",
    "Now let us use this model to predict the score of a student based on a particular value of study hours!"
   ]
  },
  {
   "cell_type": "code",
   "execution_count": 51,
   "id": "c94d436d",
   "metadata": {},
   "outputs": [
    {
     "data": {
      "image/png": "[encoded data removed]",
      "text/plain": [
       "<Figure size 432x288 with 1 Axes>"
      ]
     },
     "metadata": {
      "needs_background": "light"
     },
     "output_type": "display_data"
    }
   ],
   "source": [
    "plt.scatter(X_test, y_test, label = \"Observed values\", c = \"Black\")   #Scatter diagram of observed values of test set\n",
    "plt.plot(X_test, y_pred, label = \"Predicted values\")                  #Plotting the predicted values of test set\n",
    "plt.xlabel(\"Hours studied\")\n",
    "plt.ylabel(\"Scores obtained\")\n",
    "plt.title(\"Graph showing the number of hours studied versus the scores obtained(Test)\")\n",
    "plt.legend()                                                          #To describe the elements of the graph\n",
    "plt.show()\n",
    "          "
   ]
  },
  {
   "cell_type": "code",
   "execution_count": 52,
   "id": "ffe96710",
   "metadata": {},
   "outputs": [
    {
     "name": "stdout",
     "output_type": "stream",
     "text": [
      "The predicted score if a student studies for 9.25 hours is: [91.79477658]\n"
     ]
    }
   ],
   "source": [
    "print(\"The predicted score if a student studies for 9.25 hours is:\", reg.predict([[9.25]])) #Predicting the final score based on 9.25 study hours."
   ]
  }
 ],
 "metadata": {
  "kernelspec": {
   "display_name": "Python 3 (ipykernel)",
   "language": "python",
   "name": "python3"
  },
  "language_info": {
   "codemirror_mode": {
    "name": "ipython",
    "version": 3
   },
   "file_extension": ".py",
   "mimetype": "text/x-python",
   "name": "python",
   "nbconvert_exporter": "python",
   "pygments_lexer": "ipython3",
   "version": "3.9.7"
  }
 },
 "nbformat": 4,
 "nbformat_minor": 5
}
